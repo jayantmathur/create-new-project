{
 "cells": [
  {
   "cell_type": "code",
   "execution_count": null,
   "metadata": {
    "vscode": {
     "languageId": "r"
    }
   },
   "outputs": [],
   "source": [
    "# Check and install packages listed\n",
    "package.check = function(packages){\n",
    "    lapply(\n",
    "    packages,\n",
    "    FUN = function(x) {\n",
    "      if (!require(x, character.only = TRUE)) {\n",
    "        install.packages(x, dependencies = TRUE,repos=\"https://cloud.r-project.org\")\n",
    "        library(x, character.only = TRUE)\n",
    "      }\n",
    "    }\n",
    "  )\n",
    "}\n",
    "\n",
    "copytable = function(x,row.names=FALSE,col.names=TRUE,...) {\n",
    "  write.table(x,\"clipboard\",sep=\"/t\",row.names=row.names,col.names=col.names,...)\n",
    "}\n",
    "\n",
    "# center with mean function for continuous variables\n",
    "center_w_mean = function(x) {\n",
    "    xcenter = mean(x)\n",
    "    x - xcenter\n",
    "}\n",
    "\n",
    "cleanData = function(data) {\n",
    "  data = data[-2,] %>% select(contains(c(\"Q\",\"condition\",\"randomfield\")) & !contains(c(\"NPS\",\"Browser\",\"Version\",\"System\",\"Resolution\",\"Click\")))\n",
    "\n",
    "  # specifically to remove tutorial stuff\n",
    "  # data = select(data, !starts_with(\"QID17\"))\n",
    "\n",
    "  data[1,] = lapply(\n",
    "      data[1,],\n",
    "      function(x) {\n",
    "          gsub(\".*statements. - \", \"\", x)\n",
    "      }\n",
    "    )\n",
    "  data[1,] = lapply(\n",
    "      data[1,],\n",
    "      function(x) {\n",
    "        sub(\"\\r\\n.*\", \"\", x)\n",
    "      }\n",
    "    )\n",
    "  data[1,] = lapply(\n",
    "      data[1,],\n",
    "      function(x) {\n",
    "        gsub(\"Timing - \", \"\", x)\n",
    "      }\n",
    "    )\n",
    "  data[1,] = lapply(\n",
    "      data[1,],\n",
    "      function(x) {\n",
    "        gsub(\" Cognitive Load\", \"\", x)\n",
    "      }\n",
    "    )\n",
    "\n",
    "  # colnames(data)= makeInitials(data[1,])\n",
    "  colnames(data)= data[1,]\n",
    "  data = data[-1,]\n",
    "}\n",
    "\n",
    "makeInitials = function(charVec) {\n",
    "  make.unique(vapply(strsplit(toupper(charVec), \" \"), \n",
    "                     function(x) paste(substr(x, 1, 1), collapse = \"\"), \n",
    "                     vector(\"character\", 1L)))\n",
    "}"
   ]
  },
  {
   "cell_type": "code",
   "execution_count": null,
   "metadata": {
    "vscode": {
     "languageId": "r"
    }
   },
   "outputs": [],
   "source": [
    "packages = c(\"tidyverse\", \"ggpubr\", \"ggvis\", \"ggeffects\", \"lmerTest\", \"easystats\", \"pwr\")\n",
    "package.check(packages)"
   ]
  },
  {
   "cell_type": "code",
   "execution_count": null,
   "metadata": {
    "vscode": {
     "languageId": "r"
    }
   },
   "outputs": [],
   "source": [
    "# Cohen's effect sizes small=.02, medium=.15, large=.35 (Cohen, J. (1988). Statistical power analysis for the behavioral sciences (2nd ed.). Hillsdale, NJ: Lawrence Erlbaum)\n",
    "\n",
    "# u is the number of coefficients in the model (i.e., number of independent + interaction variables + 1 for cutoff - b0) Therefore, u > 1\n",
    "\n",
    "# u = 3 because b0 + ConditionC + CovariateC (e.g., ManufactuabilityC)\n",
    "pwr.f2.test(u = 3, f2 = .35, sig.level = 0.05, power = 0.8)\n",
    "# sample size = u + roundup(v) + 1"
   ]
  },
  {
   "cell_type": "code",
   "execution_count": null,
   "metadata": {
    "vscode": {
     "languageId": "r"
    }
   },
   "outputs": [],
   "source": [
    "# disable warnings\n",
    "options(warn = - 1) "
   ]
  },
  {
   "cell_type": "code",
   "execution_count": null,
   "metadata": {
    "vscode": {
     "languageId": "r"
    }
   },
   "outputs": [],
   "source": [
    "# create color palettes\n",
    "\n",
    "# https://stackoverflow.com/questions/57153428/r-plot-color-combinations-that-are-colorblind-accessible\n",
    "\n",
    "# opalette = conditionsPalette.colors(palette = \"Okabe-Ito\")\n",
    "conditionsPalette = hcl.colors(palette = \"plasma\",n = 3)"
   ]
  },
  {
   "cell_type": "code",
   "execution_count": null,
   "metadata": {
    "vscode": {
     "languageId": "r"
    }
   },
   "outputs": [],
   "source": [
    "# custom plot theme\n",
    "plottheme = theme_pubr()+\n",
    "            theme(\n",
    "              legend.position=\"bottom\",\n",
    "              legend.background = element_rect(fill = \"transparent\"),\n",
    "              strip.background = element_blank(),\n",
    "              # legend.box.background = element_rect(fill = \"transparent\"),\n",
    "              panel.background = element_rect(fill = \"transparent\"),\n",
    "              panel.grid.major = element_blank(),\n",
    "              panel.grid.minor = element_blank(),\n",
    "              plot.background = element_rect(fill = \"transparent\", color = NA),\n",
    "              axis.title.y = element_text(margin = margin(r = 20)),\n",
    "              # text=element_text(size=18, family=\"serif\")\n",
    "            )         "
   ]
  },
  {
   "cell_type": "code",
   "execution_count": null,
   "metadata": {
    "vscode": {
     "languageId": "r"
    }
   },
   "outputs": [],
   "source": [
    "data = readxl::read_excel(\"data.xlsx\")\n",
    "data = cleanData(data)\n",
    "# fix(data)"
   ]
  }
 ],
 "metadata": {
  "kernelspec": {
   "display_name": "R",
   "language": "R",
   "name": "ir"
  },
  "language_info": {
   "codemirror_mode": "r",
   "file_extension": ".r",
   "mimetype": "text/x-r-source",
   "name": "R",
   "pygments_lexer": "r",
   "version": "4.1.3"
  },
  "orig_nbformat": 4,
  "vscode": {
   "interpreter": {
    "hash": "6ec8154b8c1c2b241ed870aa047132560311b0bad7f3226c5dc3dee38c47b094"
   }
  }
 },
 "nbformat": 4,
 "nbformat_minor": 2
}
